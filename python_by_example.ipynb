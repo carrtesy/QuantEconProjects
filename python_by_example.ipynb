{
 "cells": [
  {
   "cell_type": "markdown",
   "metadata": {},
   "source": [
    "\n",
    "<a id='python-by-example'></a>\n",
    "<div id=\"qe-notebook-header\" align=\"right\" style=\"text-align:right;\">\n",
    "        <a href=\"https://quantecon.org/\" title=\"quantecon.org\">\n",
    "                <img style=\"width:250px;display:inline;\" width=\"250px\" src=\"https://assets.quantecon.org/img/qe-menubar-logo.svg\" alt=\"QuantEcon\">\n",
    "        </a>\n",
    "</div>"
   ]
  },
  {
   "cell_type": "markdown",
   "metadata": {},
   "source": [
    "# An Introductory Example\n",
    "\n",
    "\n",
    "<a id='index-0'></a>"
   ]
  },
  {
   "cell_type": "markdown",
   "metadata": {},
   "source": [
    "## Contents\n",
    "\n",
    "- [An Introductory Example](#An-Introductory-Example)  \n",
    "  - [Overview](#Overview)  \n",
    "  - [The Task: Plotting a White Noise Process](#The-Task:-Plotting-a-White-Noise-Process)  \n",
    "  - [Version 1](#Version-1)  \n",
    "  - [Alternative Implementations](#Alternative-Implementations)  \n",
    "  - [Another Application](#Another-Application)  \n",
    "  - [Exercises](#Exercises)  \n",
    "  - [Solutions](#Solutions)  "
   ]
  },
  {
   "cell_type": "markdown",
   "metadata": {},
   "source": [
    "## Overview\n",
    "\n",
    "We’re now ready to start learning the Python language itself.\n",
    "\n",
    "In this lecture, we will write and then pick apart small Python programs.\n",
    "\n",
    "The objective is to introduce you to basic Python syntax and data structures.\n",
    "\n",
    "Deeper concepts will be covered in later lectures.\n",
    "\n",
    "You should have read the [lecture](https://python.quantecon.org/getting_started.html) on getting started with Python before beginning this one."
   ]
  },
  {
   "cell_type": "markdown",
   "metadata": {},
   "source": [
    "## The Task: Plotting a White Noise Process\n",
    "\n",
    "Suppose we want to simulate and plot the white noise\n",
    "process $ \\epsilon_0, \\epsilon_1, \\ldots, \\epsilon_T $, where each draw $ \\epsilon_t $ is independent standard normal.\n",
    "\n",
    "In other words, we want to generate figures that look something like this:\n",
    "\n",
    "<img src=\"https://s3-ap-southeast-2.amazonaws.com/python.quantecon.org/_static/lecture_specific/python_by_example/test_program_1_updated.png\" style=\"\">\n",
    "\n",
    "  \n",
    "(Here $ t $ is on the horizontal axis and $ \\epsilon_t $ is on the\n",
    "vertical axis.)\n",
    "\n",
    "We’ll do this in several different ways, each time learning something more\n",
    "about Python.\n",
    "\n",
    "We run the following command first, which helps ensure that plots appear in the\n",
    "notebook if you run it on your own machine."
   ]
  },
  {
   "cell_type": "code",
   "execution_count": null,
   "metadata": {
    "hide-output": false
   },
   "outputs": [],
   "source": [
    "%matplotlib inline"
   ]
  },
  {
   "cell_type": "markdown",
   "metadata": {},
   "source": [
    "## Version 1\n",
    "\n",
    "\n",
    "<a id='ourfirstprog'></a>\n",
    "Here are a few lines of code that perform the task we set"
   ]
  },
  {
   "cell_type": "code",
   "execution_count": 10,
   "metadata": {
    "hide-output": false
   },
   "outputs": [
    {
     "data": {
      "image/png": "[encoded data removed]",
      "text/plain": [
       "<Figure size 432x288 with 1 Axes>"
      ]
     },
     "metadata": {
      "needs_background": "light"
     },
     "output_type": "display_data"
    }
   ],
   "source": [
    "import numpy as np\n",
    "import matplotlib.pyplot as plt\n",
    "\n",
    "ϵ_values = np.random.randn(100)\n",
    "plt.plot(ϵ_values, '-g', label = \"TIME SERIES\")\n",
    "plt.show()"
   ]
  },
  {
   "cell_type": "markdown",
   "metadata": {},
   "source": [
    "Let’s break this program down and see how it works.\n",
    "\n",
    "\n",
    "<a id='import'></a>"
   ]
  },
  {
   "cell_type": "markdown",
   "metadata": {},
   "source": [
    "### Imports\n",
    "\n",
    "The first two lines of the program import functionality from external code\n",
    "libraries.\n",
    "\n",
    "The first line imports [NumPy](https://python.quantecon.org/numpy.html), a favorite Python package for tasks like\n",
    "\n",
    "- working with arrays (vectors and matrices)  \n",
    "- common mathematical functions like `cos` and `sqrt`  \n",
    "- generating random numbers  \n",
    "- linear algebra, etc.  \n",
    "\n",
    "\n",
    "After `import numpy as np` we have access to these attributes via the syntax `np.attribute`.\n",
    "\n",
    "Here’s two more examples"
   ]
  },
  {
   "cell_type": "code",
   "execution_count": 7,
   "metadata": {
    "hide-output": false
   },
   "outputs": [
    {
     "data": {
      "text/plain": [
       "2.0"
      ]
     },
     "execution_count": 7,
     "metadata": {},
     "output_type": "execute_result"
    }
   ],
   "source": [
    "np.sqrt(4)"
   ]
  },
  {
   "cell_type": "code",
   "execution_count": 8,
   "metadata": {
    "hide-output": false
   },
   "outputs": [
    {
     "data": {
      "text/plain": [
       "1.3862943611198906"
      ]
     },
     "execution_count": 8,
     "metadata": {},
     "output_type": "execute_result"
    }
   ],
   "source": [
    "np.log(4)"
   ]
  },
  {
   "cell_type": "markdown",
   "metadata": {},
   "source": [
    "We could also use the following syntax:"
   ]
  },
  {
   "cell_type": "code",
   "execution_count": null,
   "metadata": {
    "hide-output": false
   },
   "outputs": [],
   "source": [
    "import numpy\n",
    "\n",
    "numpy.sqrt(4)"
   ]
  },
  {
   "cell_type": "markdown",
   "metadata": {},
   "source": [
    "But the former method (using the short name `np`) is convenient and more standard."
   ]
  },
  {
   "cell_type": "markdown",
   "metadata": {},
   "source": [
    "#### Why So Many Imports?\n",
    "\n",
    "Python programs typically require several import statements.\n",
    "\n",
    "The reason is that the core language is deliberately kept small, so that it’s easy to learn and maintain.\n",
    "\n",
    "When you want to do something interesting with Python, you almost always need\n",
    "to import additional functionality."
   ]
  },
  {
   "cell_type": "markdown",
   "metadata": {},
   "source": [
    "#### Packages\n",
    "\n",
    "\n",
    "<a id='index-1'></a>\n",
    "As stated above, NumPy is a Python *package*.\n",
    "\n",
    "Packages are used by developers to organize code they wish to share.\n",
    "\n",
    "In fact, a package is just a directory containing\n",
    "\n",
    "1. files with Python code — called **modules** in Python speak  \n",
    "1. possibly some compiled code that can be accessed by Python (e.g., functions compiled from C or FORTRAN code)  \n",
    "1. a file called `__init__.py` that specifies what will be executed when we type `import package_name`  \n",
    "\n",
    "\n",
    "In fact, you can find and explore the directory for NumPy on your computer\n",
    "easily enough if you look around.\n",
    "\n",
    "On this machine, it’s located in"
   ]
  },
  {
   "cell_type": "markdown",
   "metadata": {
    "hide-output": false
   },
   "source": [
    "```ipython\n",
    "anaconda3/lib/python3.7/site-packages/numpy\n",
    "```\n"
   ]
  },
  {
   "cell_type": "markdown",
   "metadata": {},
   "source": [
    "#### Subpackages\n",
    "\n",
    "\n",
    "<a id='index-2'></a>\n",
    "Consider the line `ϵ_values = np.random.randn(100)`.\n",
    "\n",
    "Here `np` refers to the package NumPy, while `random` is a **subpackage** of NumPy.\n",
    "\n",
    "Subpackages are just packages that are subdirectories of another package."
   ]
  },
  {
   "cell_type": "markdown",
   "metadata": {},
   "source": [
    "### Importing Names Directly\n",
    "\n",
    "Recall this code that we saw above"
   ]
  },
  {
   "cell_type": "code",
   "execution_count": null,
   "metadata": {
    "hide-output": false
   },
   "outputs": [],
   "source": [
    "import numpy as np\n",
    "\n",
    "np.sqrt(4)"
   ]
  },
  {
   "cell_type": "markdown",
   "metadata": {},
   "source": [
    "Here’s another way to access NumPy’s square root function"
   ]
  },
  {
   "cell_type": "code",
   "execution_count": null,
   "metadata": {
    "hide-output": false
   },
   "outputs": [],
   "source": [
    "from numpy import sqrt\n",
    "\n",
    "sqrt(4)"
   ]
  },
  {
   "cell_type": "markdown",
   "metadata": {},
   "source": [
    "This is also fine.\n",
    "\n",
    "The advantage is less typing if we use `sqrt` often in our code.\n",
    "\n",
    "The disadvantage is that, in a long program, these two lines might be\n",
    "separated by many other lines.\n",
    "\n",
    "Then it’s harder for readers to know where `sqrt` came from, should they wish to."
   ]
  },
  {
   "cell_type": "markdown",
   "metadata": {},
   "source": [
    "### Random Draws\n",
    "\n",
    "Returning to our program that plots white noise, the remaining three lines\n",
    "after the import statements are"
   ]
  },
  {
   "cell_type": "code",
   "execution_count": null,
   "metadata": {
    "hide-output": false
   },
   "outputs": [],
   "source": [
    "ϵ_values = np.random.randn(100)\n",
    "plt.plot(ϵ_values)\n",
    "plt.show()"
   ]
  },
  {
   "cell_type": "markdown",
   "metadata": {},
   "source": [
    "The first line generates 100 (quasi) independent standard normals and stores\n",
    "them in `ϵ_values`.\n",
    "\n",
    "The next two lines genererate the plot.\n",
    "\n",
    "We can and will look at various ways to configure and improve this plot below."
   ]
  },
  {
   "cell_type": "markdown",
   "metadata": {},
   "source": [
    "## Alternative Implementations\n",
    "\n",
    "Let’s try writing some alternative versions of [our first program](#ourfirstprog), which plotted IID draws from the normal distribution.\n",
    "\n",
    "The programs below are less efficient than the original one, and hence\n",
    "somewhat artificial.\n",
    "\n",
    "But they do help us illustrate some important Python syntax and semantics in a familiar setting."
   ]
  },
  {
   "cell_type": "markdown",
   "metadata": {},
   "source": [
    "### A Version with a For Loop\n",
    "\n",
    "Here’s a version that illustrates `for` loops and Python lists.\n",
    "\n",
    "\n",
    "<a id='firstloopprog'></a>"
   ]
  },
  {
   "cell_type": "code",
   "execution_count": 20,
   "metadata": {
    "hide-output": false
   },
   "outputs": [
    {
     "data": {
      "image/png": "[encoded data removed]",
      "text/plain": [
       "<Figure size 432x288 with 1 Axes>"
      ]
     },
     "metadata": {
      "needs_background": "light"
     },
     "output_type": "display_data"
    }
   ],
   "source": [
    "ts_length = 100\n",
    "ϵ_values = []   # empty list\n",
    "avg_100_values = []\n",
    "\n",
    "for i in range(ts_length):\n",
    "    e = np.random.randn()\n",
    "    ϵ_values.append(e)\n",
    "    \n",
    "    \n",
    "for v in range (1, 101):\n",
    "    for i in range(ts_length):\n",
    "        e = np.random.randn(v)\n",
    "        avg = np.average(e)\n",
    "        ϵ_values.append(avg)\n",
    "    \n",
    "    \n",
    "plt.plot(ϵ_values)\n",
    "plt.plot(avg_100_values)\n",
    "\n",
    "plt.show()"
   ]
  },
  {
   "cell_type": "code",
   "execution_count": 28,
   "metadata": {},
   "outputs": [
    {
     "name": "stdout",
     "output_type": "stream",
     "text": [
      "-0.24272175374820118\n",
      "-0.785726296707186\n",
      "0.15463414247270252\n",
      "1.664154794747019\n",
      "1.0461819815155498\n",
      "2.416910681636081\n",
      "-0.7507880436252715\n",
      "-0.03804545898951402\n",
      "1.3113949481371483\n",
      "-0.06332395318082866\n",
      "-0.07249457115867984\n",
      "0.029276829961788087\n",
      "0.010106000247790663\n",
      "0.9376519495929241\n",
      "-0.9033289209003552\n",
      "-0.2418996598929618\n",
      "0.5800983308881699\n",
      "1.5982607195703369\n",
      "0.756281611036642\n",
      "1.9380274310368668\n",
      "-1.5376467367973852\n",
      "0.1299869192776785\n",
      "-0.3465205848954677\n",
      "-0.3728128296282385\n",
      "-0.5018424836569235\n",
      "1.105714118184524\n",
      "0.4282011332435003\n",
      "-0.6559113327312494\n",
      "0.45837545438709987\n",
      "0.44422143414624055\n",
      "0.4709719405361777\n",
      "-0.30364414959167657\n",
      "-1.4537908762830358\n",
      "-1.495304730603883\n",
      "0.6059205920089638\n",
      "-0.7703912933492114\n",
      "-2.0471338699904433\n",
      "-0.9632958640936786\n",
      "0.9635344295462954\n",
      "0.8213581141021422\n",
      "-0.3275323999261538\n",
      "-1.2177733233498742\n",
      "0.7326574617835664\n",
      "1.0374835747016522\n",
      "1.1073831436457264\n",
      "-0.458571612504027\n",
      "-1.0734526452587678\n",
      "0.5163707845922342\n",
      "-0.5509199437643372\n",
      "-1.0612556295085613\n",
      "1.4731153136241255\n",
      "-1.1865375041082322\n",
      "0.056537218519550264\n",
      "0.5405655359694603\n",
      "-0.039659821054298564\n",
      "0.6891345831945581\n",
      "-0.9133519518481015\n",
      "-0.3262229707161644\n",
      "1.1491810662285293\n",
      "1.56845478541433\n",
      "-0.6950920476665414\n",
      "1.2060034058311344\n",
      "-0.6509913819702795\n",
      "-0.04792375761208846\n",
      "-1.1486850998235978\n",
      "1.6165667566686557\n",
      "1.019501890874672\n",
      "0.3494091473171512\n",
      "0.021277328933450253\n",
      "2.018288339195582\n",
      "-0.25790100515225445\n",
      "-0.62331060835848\n",
      "-1.2369183064641094\n",
      "0.5611945974592222\n",
      "0.04636012653326878\n",
      "-1.267431069895267\n",
      "-0.7730668789600527\n",
      "-1.9315707950141616\n",
      "1.5683460408343586\n",
      "0.11608169418295264\n",
      "-0.6838366054888524\n",
      "-0.14054467670413975\n",
      "0.7256216712560146\n",
      "0.7854383316506202\n",
      "-0.8623392269100209\n",
      "0.7990829004507454\n",
      "0.24543761993429702\n",
      "0.008061779253644631\n",
      "-0.13631557342320813\n",
      "-0.9018330952049076\n",
      "-0.49441460733542114\n",
      "-0.029147323233288037\n",
      "-2.124483919362696\n",
      "0.22936811505333207\n",
      "-0.9111095420978729\n",
      "-0.5168120821354707\n",
      "-0.3323842897352423\n",
      "-0.8150853421880867\n",
      "0.920273312131283\n",
      "-0.714794466188841\n"
     ]
    },
    {
     "data": {
      "text/plain": [
       "[<matplotlib.lines.Line2D at 0x7f2e12cd6450>,\n",
       " <matplotlib.lines.Line2D at 0x7f2e12cd6690>]"
      ]
     },
     "execution_count": 28,
     "metadata": {},
     "output_type": "execute_result"
    },
    {
     "data": {
      "image/png": "[encoded data removed]",
      "text/plain": [
       "<Figure size 432x288 with 1 Axes>"
      ]
     },
     "metadata": {
      "needs_background": "light"
     },
     "output_type": "display_data"
    }
   ],
   "source": [
    "lst = []\n",
    "for times in range(1, 101):\n",
    "    e = np.random.randn()\n",
    "    lst.append([e,e])   \n",
    "    print(e)\n",
    "    \n",
    "plt.plot(lst)"
   ]
  },
  {
   "cell_type": "markdown",
   "metadata": {},
   "source": [
    "In brief,\n",
    "\n",
    "- The first line sets the desired length of the time series.  \n",
    "- The next line creates an empty *list* called `ϵ_values` that will store the $ \\epsilon_t $ values as we generate them.  \n",
    "- The statement `# empty list` is a *comment*, and is ignored by Python’s interpreter.  \n",
    "- The next three lines are the `for` loop, which repeatedly draws a new random number $ \\epsilon_t $ and appends it to the end of the list `ϵ_values`.  \n",
    "- The last two lines generate the plot and display it to the user.  \n",
    "\n",
    "\n",
    "Let’s study some parts of this program in more detail.\n",
    "\n",
    "\n",
    "<a id='lists-ref'></a>"
   ]
  },
  {
   "cell_type": "markdown",
   "metadata": {},
   "source": [
    "### Lists\n",
    "\n",
    "\n",
    "<a id='index-3'></a>\n",
    "Consider the statement `ϵ_values = []`, which creates an empty list.\n",
    "\n",
    "Lists are a *native Python data structure* used to group a collection of objects.\n",
    "\n",
    "For example, try"
   ]
  },
  {
   "cell_type": "code",
   "execution_count": null,
   "metadata": {
    "hide-output": false
   },
   "outputs": [],
   "source": [
    "x = [10, 'foo', False]\n",
    "type(x)"
   ]
  },
  {
   "cell_type": "markdown",
   "metadata": {},
   "source": [
    "The first element of `x` is an [integer](https://en.wikipedia.org/wiki/Integer_%28computer_science%29), the next is a [string](https://en.wikipedia.org/wiki/String_%28computer_science%29), and the third is a [Boolean value](https://en.wikipedia.org/wiki/Boolean_data_type).\n",
    "\n",
    "When adding a value to a list, we can use the syntax `list_name.append(some_value)`"
   ]
  },
  {
   "cell_type": "code",
   "execution_count": null,
   "metadata": {
    "hide-output": false
   },
   "outputs": [],
   "source": [
    "x"
   ]
  },
  {
   "cell_type": "code",
   "execution_count": null,
   "metadata": {
    "hide-output": false
   },
   "outputs": [],
   "source": [
    "x.append(2.5)\n",
    "x"
   ]
  },
  {
   "cell_type": "markdown",
   "metadata": {},
   "source": [
    "Here `append()` is what’s called a *method*, which is a function “attached to” an object—in this case, the list `x`.\n",
    "\n",
    "We’ll learn all about methods later on, but just to give you some idea,\n",
    "\n",
    "- Python objects such as lists, strings, etc. all have methods that are used to manipulate the data contained in the object.  \n",
    "- String objects have [string methods](https://docs.python.org/3/library/stdtypes.html#string-methods), list objects have [list methods](https://docs.python.org/3/tutorial/datastructures.html#more-on-lists), etc.  \n",
    "\n",
    "\n",
    "Another useful list method is `pop()`"
   ]
  },
  {
   "cell_type": "code",
   "execution_count": null,
   "metadata": {
    "hide-output": false
   },
   "outputs": [],
   "source": [
    "x"
   ]
  },
  {
   "cell_type": "code",
   "execution_count": null,
   "metadata": {
    "hide-output": false
   },
   "outputs": [],
   "source": [
    "x.pop()"
   ]
  },
  {
   "cell_type": "code",
   "execution_count": null,
   "metadata": {
    "hide-output": false
   },
   "outputs": [],
   "source": [
    "x"
   ]
  },
  {
   "cell_type": "markdown",
   "metadata": {},
   "source": [
    "Lists in Python are zero-based (as in C, Java or Go), so the first element is referenced by `x[0]`"
   ]
  },
  {
   "cell_type": "code",
   "execution_count": null,
   "metadata": {
    "hide-output": false
   },
   "outputs": [],
   "source": [
    "x[0]   # first element of x"
   ]
  },
  {
   "cell_type": "code",
   "execution_count": null,
   "metadata": {
    "hide-output": false
   },
   "outputs": [],
   "source": [
    "x[1]   # second element of x"
   ]
  },
  {
   "cell_type": "markdown",
   "metadata": {},
   "source": [
    "### The For Loop\n",
    "\n",
    "\n",
    "<a id='index-4'></a>\n",
    "Now let’s consider the `for` loop from [the program above](#firstloopprog), which was"
   ]
  },
  {
   "cell_type": "code",
   "execution_count": null,
   "metadata": {
    "hide-output": false
   },
   "outputs": [],
   "source": [
    "for i in range(ts_length):\n",
    "    e = np.random.randn()\n",
    "    ϵ_values.append(e)"
   ]
  },
  {
   "cell_type": "markdown",
   "metadata": {},
   "source": [
    "Python executes the two indented lines `ts_length` times before moving on.\n",
    "\n",
    "These two lines are called a `code block`, since they comprise the “block” of code that we are looping over.\n",
    "\n",
    "Unlike most other languages, Python knows the extent of the code block *only from indentation*.\n",
    "\n",
    "In our program, indentation decreases after line `ϵ_values.append(e)`, telling Python that this line marks the lower limit of the code block.\n",
    "\n",
    "More on indentation below—for now, let’s look at another example of a `for` loop"
   ]
  },
  {
   "cell_type": "code",
   "execution_count": null,
   "metadata": {
    "hide-output": false
   },
   "outputs": [],
   "source": [
    "animals = ['dog', 'cat', 'bird']\n",
    "for animal in animals:\n",
    "    print(\"The plural of \" + animal + \" is \" + animal + \"s\")"
   ]
  },
  {
   "cell_type": "markdown",
   "metadata": {},
   "source": [
    "This example helps to clarify how the `for` loop works:  When we execute a\n",
    "loop of the form"
   ]
  },
  {
   "cell_type": "markdown",
   "metadata": {
    "hide-output": false
   },
   "source": [
    "```python3\n",
    "for variable_name in sequence:\n",
    "    <code block>\n",
    "```\n"
   ]
  },
  {
   "cell_type": "markdown",
   "metadata": {},
   "source": [
    "The Python interpreter performs the following:\n",
    "\n",
    "- For each element of the `sequence`, it “binds” the name `variable_name` to that element and then executes the code block.  \n",
    "\n",
    "\n",
    "The `sequence` object can in fact be a very general object, as we’ll see\n",
    "soon enough."
   ]
  },
  {
   "cell_type": "markdown",
   "metadata": {},
   "source": [
    "### A Comment on Indentation\n",
    "\n",
    "\n",
    "<a id='index-5'></a>\n",
    "In discussing the `for` loop, we explained that the code blocks being looped over are delimited by indentation.\n",
    "\n",
    "In fact, in Python, **all** code blocks (i.e., those occurring inside loops, if clauses, function definitions, etc.) are delimited by indentation.\n",
    "\n",
    "Thus, unlike most other languages, whitespace in Python code affects the output of the program.\n",
    "\n",
    "Once you get used to it, this is a good thing: It\n",
    "\n",
    "- forces clean, consistent indentation, improving readability  \n",
    "- removes clutter, such as the brackets or end statements used in other languages  \n",
    "\n",
    "\n",
    "On the other hand, it takes a bit of care to get right, so please remember:\n",
    "\n",
    "- The line before the start of a code block always ends in a colon  \n",
    "  \n",
    "  - `for i in range(10):`  \n",
    "  - `if x > y:`  \n",
    "  - `while x < 100:`  \n",
    "  - etc., etc.  \n",
    "  \n",
    "- All lines in a code block **must have the same amount of indentation**.  \n",
    "- The Python standard is 4 spaces, and that’s what you should use.  "
   ]
  },
  {
   "cell_type": "markdown",
   "metadata": {},
   "source": [
    "### While Loops\n",
    "\n",
    "\n",
    "<a id='index-6'></a>\n",
    "The `for` loop is the most common technique for iteration in Python.\n",
    "\n",
    "But, for the purpose of illustration, let’s modify [the program above](#firstloopprog) to use a `while` loop instead.\n",
    "\n",
    "\n",
    "<a id='whileloopprog'></a>"
   ]
  },
  {
   "cell_type": "code",
   "execution_count": null,
   "metadata": {
    "hide-output": false
   },
   "outputs": [],
   "source": [
    "ts_length = 100\n",
    "ϵ_values = []\n",
    "i = 0\n",
    "while i < ts_length:\n",
    "    e = np.random.randn()\n",
    "    ϵ_values.append(e)\n",
    "    i = i + 1\n",
    "plt.plot(ϵ_values)\n",
    "plt.show()"
   ]
  },
  {
   "cell_type": "markdown",
   "metadata": {},
   "source": [
    "Note that\n",
    "\n",
    "- the code block for the `while` loop is again delimited only by indentation  \n",
    "- the statement  `i = i + 1` can be replaced by `i += 1`  "
   ]
  },
  {
   "cell_type": "markdown",
   "metadata": {},
   "source": [
    "## Another Application\n",
    "\n",
    "Let’s do one more application before we turn to exercises.\n",
    "\n",
    "In this application, we plot the balance of a bank account over time.\n",
    "\n",
    "There are no withdraws over the time period, the last date of which is denoted\n",
    "by $ T $.\n",
    "\n",
    "The initial balance is $ b_0 $ and the interest rate is $ r $.\n",
    "\n",
    "The balance updates from period $ t $ to $ t+1 $ according to $ b_{t+1} = (1 + r) b_t $.\n",
    "\n",
    "In the code below, we generate and plot the sequence $ b_0, b_1, \\ldots, b_T $.\n",
    "\n",
    "Instead of using a Python list to store this sequence, we will use a NumPy\n",
    "array."
   ]
  },
  {
   "cell_type": "code",
   "execution_count": 25,
   "metadata": {
    "hide-output": false
   },
   "outputs": [
    {
     "data": {
      "image/png": "[encoded data removed]",
      "text/plain": [
       "<Figure size 432x288 with 1 Axes>"
      ]
     },
     "metadata": {
      "needs_background": "light"
     },
     "output_type": "display_data"
    }
   ],
   "source": [
    "r = 0.025         # interest rate\n",
    "T = 50            # end date\n",
    "b = np.empty(T+1) # an empty NumPy array, to store all b_t\n",
    "b[0] = 10         # initial balance\n",
    "\n",
    "for t in range(T):\n",
    "    b[t+1] = (1 + r) * b[t]\n",
    "\n",
    "plt.plot(b, label='bank balance')\n",
    "plt.legend()\n",
    "plt.show()"
   ]
  },
  {
   "cell_type": "markdown",
   "metadata": {},
   "source": [
    "The statement `b = np.empty(T+1)` allocates storage in memory for `T+1`\n",
    "(floating point) numbers.\n",
    "\n",
    "These numbers are filled in by the `for` loop.\n",
    "\n",
    "Allocating memory at the start is more efficient than using a Python list and\n",
    "`append`, since the latter must repeatedly ask for storage space from the\n",
    "operating system.\n",
    "\n",
    "Notice that we added a legend to the plot — a feature you will be asked to\n",
    "use in the exercises."
   ]
  },
  {
   "cell_type": "markdown",
   "metadata": {},
   "source": [
    "## Exercises\n",
    "\n",
    "Now we turn to exercises.  It is important that you complete them before\n",
    "continuing, since they present new concepts we will need."
   ]
  },
  {
   "cell_type": "markdown",
   "metadata": {},
   "source": [
    "### Exercise 1\n",
    "\n",
    "Your first task is to simulate and plot the correlated time series\n",
    "\n",
    "$$\n",
    "x_{t+1} = \\alpha \\, x_t + \\epsilon_{t+1}\n",
    "\\quad \\text{where} \\quad\n",
    "x_0 = 0\n",
    "\\quad \\text{and} \\quad t = 0,\\ldots,T\n",
    "$$\n",
    "\n",
    "The sequence of shocks $ \\{\\epsilon_t\\} $ is assumed to be IID and standard normal.\n",
    "\n",
    "In your solution, restrict your import statements to"
   ]
  },
  {
   "cell_type": "code",
   "execution_count": 72,
   "metadata": {},
   "outputs": [
    {
     "data": {
      "image/png": "[encoded data removed]",
      "text/plain": [
       "<Figure size 432x288 with 1 Axes>"
      ]
     },
     "metadata": {
      "needs_background": "light"
     },
     "output_type": "display_data"
    }
   ],
   "source": [
    "import numpy as np\n",
    "import matplotlib.pyplot as plt\n",
    "\n",
    "def plotLinearSeries(alpha, x_initial, time, plotname):\n",
    "    x_list = np.empty(time+1)\n",
    "    x_list[0] = x_initial\n",
    "    \n",
    "    for i in range(time):\n",
    "        e = np.random.rand()\n",
    "        x_list[i+1] = alpha * x_list[i] + e\n",
    "    \n",
    "    plt.plot(x_list, label = plotname)\n",
    "    plt.legend()\n",
    "\n",
    "def plotAbsLinearSeries(alpha, x_initial, time, plotname):\n",
    "    x_list = np.empty(time+1)\n",
    "    x_list[0] = x_initial\n",
    "    \n",
    "    for i in range(time):\n",
    "        e = np.random.rand()\n",
    "        x_before = x_list[i] if x_list[i] >= 0 else (-1) * x_list[i]\n",
    "        x_list[i+1] = alpha * abs(x_before) + e\n",
    "    \n",
    "    plt.plot(x_list, label = plotname)\n",
    "    plt.legend()\n",
    "    \n",
    "plotLinearSeries(0.9, 0, 200, \"time series\" )\n",
    "plt.show()"
   ]
  },
  {
   "cell_type": "markdown",
   "metadata": {},
   "source": [
    "Set $ T=200 $ and $ \\alpha = 0.9 $."
   ]
  },
  {
   "cell_type": "markdown",
   "metadata": {},
   "source": [
    "### Exercise 2\n",
    "\n",
    "Starting with your solution to exercise 2, plot three simulated time series,\n",
    "one for each of the cases $ \\alpha=0 $, $ \\alpha=0.8 $ and $ \\alpha=0.98 $.\n",
    "\n",
    "Use a `for` loop to step through the $ \\alpha $ values.\n",
    "\n",
    "If you can, add a legend, to help distinguish between the three time series.\n",
    "\n",
    "Hints:\n",
    "\n",
    "- If you call the `plot()` function multiple times before calling `show()`, all of the lines you produce will end up on the same figure.  \n",
    "- For the legend, noted that the expression `'foo' + str(42)` evaluates to `'foo42'`.  "
   ]
  },
  {
   "cell_type": "code",
   "execution_count": 73,
   "metadata": {},
   "outputs": [
    {
     "data": {
      "image/png": "[encoded data removed]",
      "text/plain": [
       "<Figure size 432x288 with 1 Axes>"
      ]
     },
     "metadata": {
      "needs_background": "light"
     },
     "output_type": "display_data"
    }
   ],
   "source": [
    "plotLinearSeries(0, 0, 200, \"plot1: α is 0\" )\n",
    "plotLinearSeries(0.8, 0, 200, \"plot2: α is 0.8\")\n",
    "plotLinearSeries(0.98, 0, 200, \"plot3: α is 0.98\")\n",
    "\n",
    "plt.show()"
   ]
  },
  {
   "cell_type": "markdown",
   "metadata": {},
   "source": [
    "### Exercise 3\n",
    "\n",
    "Similar to the previous exercises, plot the time series\n",
    "\n",
    "$$\n",
    "x_{t+1} = \\alpha \\, |x_t| + \\epsilon_{t+1}\n",
    "\\quad \\text{where} \\quad\n",
    "x_0 = 0\n",
    "\\quad \\text{and} \\quad t = 0,\\ldots,T\n",
    "$$\n",
    "\n",
    "Use $ T=200 $, $ \\alpha = 0.9 $ and $ \\{\\epsilon_t\\} $ as before.\n",
    "\n",
    "Search online for a function that can be used to compute the absolute value $ |x_t| $."
   ]
  },
  {
   "cell_type": "markdown",
   "metadata": {},
   "source": [
    "### Exercise 4\n",
    "\n",
    "One important aspect of essentially all programming languages is branching and\n",
    "conditions.\n",
    "\n",
    "In Python, conditions are usually implemented with if–else syntax.\n",
    "\n",
    "Here’s an example, that prints -1 for each negative number in an array and 1\n",
    "for each nonnegative number"
   ]
  },
  {
   "cell_type": "code",
   "execution_count": null,
   "metadata": {
    "hide-output": false
   },
   "outputs": [],
   "source": [
    "numbers = [-9, 2.3, -11, 0]"
   ]
  },
  {
   "cell_type": "code",
   "execution_count": null,
   "metadata": {
    "hide-output": false
   },
   "outputs": [],
   "source": [
    "for x in numbers:\n",
    "    if x < 0:\n",
    "        print(-1)\n",
    "    else:\n",
    "        print(1)"
   ]
  },
  {
   "cell_type": "code",
   "execution_count": 101,
   "metadata": {},
   "outputs": [
    {
     "data": {
      "image/png": "[encoded data removed]",
      "text/plain": [
       "<Figure size 432x288 with 1 Axes>"
      ]
     },
     "metadata": {
      "needs_background": "light"
     },
     "output_type": "display_data"
    }
   ],
   "source": [
    "plotAbsLinearSeries(0.9, 0, 200, \"Abs Time Series\")"
   ]
  },
  {
   "cell_type": "markdown",
   "metadata": {},
   "source": [
    "Now, write a new solution to Exercise 3 that does not use an existing function\n",
    "to compute the absolute value.\n",
    "\n",
    "Replace this existing function with an if–else condition.\n",
    "\n",
    "\n",
    "<a id='pbe-ex3'></a>"
   ]
  },
  {
   "cell_type": "code",
   "execution_count": null,
   "metadata": {},
   "outputs": [],
   "source": []
  },
  {
   "cell_type": "markdown",
   "metadata": {},
   "source": [
    "### Exercise 5\n",
    "\n",
    "Here’s a harder exercise, that takes some thought and planning.\n",
    "\n",
    "The task is to compute an approximation to $ \\pi $ using [Monte Carlo](https://en.wikipedia.org/wiki/Monte_Carlo_method).\n",
    "\n",
    "Use no imports besides"
   ]
  },
  {
   "cell_type": "code",
   "execution_count": 100,
   "metadata": {
    "hide-output": false
   },
   "outputs": [
    {
     "name": "stdout",
     "output_type": "stream",
     "text": [
      "Trial  100 : π is  3.0\n",
      "Trial  200 : π is  3.06\n",
      "Trial  300 : π is  3.1466666666666665\n",
      "Trial  400 : π is  3.16\n",
      "Trial  500 : π is  3.152\n",
      "Trial  600 : π is  3.1333333333333333\n",
      "Trial  700 : π is  3.1142857142857143\n",
      "Trial  800 : π is  3.115\n",
      "Trial  900 : π is  3.1333333333333333\n",
      "Trial  1000 : π is  3.14\n",
      "Trial  1100 : π is  3.138181818181818\n",
      "Trial  1200 : π is  3.15\n",
      "Trial  1300 : π is  3.1507692307692308\n",
      "Trial  1400 : π is  3.1685714285714286\n",
      "Trial  1500 : π is  3.168\n",
      "Trial  1600 : π is  3.1675\n",
      "Trial  1700 : π is  3.152941176470588\n",
      "Trial  1800 : π is  3.1422222222222222\n",
      "Trial  1900 : π is  3.1494736842105264\n",
      "Trial  2000 : π is  3.16\n",
      "Trial  2100 : π is  3.163809523809524\n",
      "Trial  2200 : π is  3.1618181818181816\n",
      "Trial  2300 : π is  3.1652173913043478\n",
      "Trial  2400 : π is  3.1533333333333333\n",
      "Trial  2500 : π is  3.152\n",
      "Trial  2600 : π is  3.146153846153846\n",
      "Trial  2700 : π is  3.1525925925925926\n",
      "Trial  2800 : π is  3.1585714285714284\n",
      "Trial  2900 : π is  3.1544827586206896\n",
      "Trial  3000 : π is  3.1533333333333333\n",
      "Trial  3100 : π is  3.1561290322580646\n",
      "Trial  3200 : π is  3.15375\n",
      "Trial  3300 : π is  3.152727272727273\n",
      "Trial  3400 : π is  3.1505882352941175\n",
      "Trial  3500 : π is  3.1542857142857144\n",
      "Trial  3600 : π is  3.148888888888889\n",
      "Trial  3700 : π is  3.1372972972972972\n",
      "Trial  3800 : π is  3.1357894736842105\n",
      "Trial  3900 : π is  3.1394871794871797\n",
      "Trial  4000 : π is  3.137\n",
      "Trial  4100 : π is  3.1307317073170733\n",
      "Trial  4200 : π is  3.1304761904761906\n",
      "Trial  4300 : π is  3.135813953488372\n",
      "Trial  4400 : π is  3.132727272727273\n",
      "Trial  4500 : π is  3.136\n",
      "Trial  4600 : π is  3.137391304347826\n",
      "Trial  4700 : π is  3.13531914893617\n",
      "Trial  4800 : π is  3.1333333333333333\n",
      "Trial  4900 : π is  3.137142857142857\n",
      "Trial  5000 : π is  3.1456\n",
      "Trial  5100 : π is  3.1403921568627453\n",
      "Trial  5200 : π is  3.1384615384615384\n",
      "Trial  5300 : π is  3.1335849056603773\n",
      "Trial  5400 : π is  3.1303703703703705\n",
      "Trial  5500 : π is  3.1265454545454547\n",
      "Trial  5600 : π is  3.1271428571428572\n",
      "Trial  5700 : π is  3.127719298245614\n",
      "Trial  5800 : π is  3.12551724137931\n",
      "Trial  5900 : π is  3.1227118644067797\n",
      "Trial  6000 : π is  3.1253333333333333\n",
      "Trial  6100 : π is  3.1259016393442622\n",
      "Trial  6200 : π is  3.1238709677419356\n",
      "Trial  6300 : π is  3.1225396825396827\n",
      "Trial  6400 : π is  3.120625\n",
      "Trial  6500 : π is  3.121230769230769\n",
      "Trial  6600 : π is  3.1224242424242425\n",
      "Trial  6700 : π is  3.120597014925373\n",
      "Trial  6800 : π is  3.1223529411764708\n",
      "Trial  6900 : π is  3.121739130434783\n",
      "Trial  7000 : π is  3.1205714285714286\n",
      "Trial  7100 : π is  3.1183098591549294\n",
      "Trial  7200 : π is  3.116111111111111\n",
      "Trial  7300 : π is  3.12\n",
      "Trial  7400 : π is  3.12\n",
      "Trial  7500 : π is  3.1237333333333335\n",
      "Trial  7600 : π is  3.123684210526316\n",
      "Trial  7700 : π is  3.1241558441558444\n",
      "Trial  7800 : π is  3.1276923076923078\n",
      "Trial  7900 : π is  3.1260759493670887\n",
      "Trial  8000 : π is  3.125\n",
      "Trial  8100 : π is  3.1244444444444444\n",
      "Trial  8200 : π is  3.124390243902439\n",
      "Trial  8300 : π is  3.125301204819277\n",
      "Trial  8400 : π is  3.126190476190476\n",
      "Trial  8500 : π is  3.1270588235294117\n",
      "Trial  8600 : π is  3.126511627906977\n",
      "Trial  8700 : π is  3.12551724137931\n",
      "Trial  8800 : π is  3.126818181818182\n",
      "Trial  8900 : π is  3.127640449438202\n",
      "Trial  9000 : π is  3.131111111111111\n",
      "Trial  9100 : π is  3.1314285714285712\n",
      "Trial  9200 : π is  3.1291304347826085\n",
      "Trial  9300 : π is  3.129462365591398\n",
      "Trial  9400 : π is  3.1314893617021275\n",
      "Trial  9500 : π is  3.1317894736842105\n",
      "Trial  9600 : π is  3.1341666666666668\n",
      "Trial  9700 : π is  3.1307216494845362\n",
      "Trial  9800 : π is  3.130612244897959\n",
      "Trial  9900 : π is  3.1321212121212123\n",
      "Trial  10000 : π is  3.1292\n",
      "Trial  10100 : π is  3.128712871287129\n",
      "Trial  10200 : π is  3.1282352941176472\n",
      "Trial  10300 : π is  3.1285436893203884\n",
      "Trial  10400 : π is  3.13\n",
      "Trial  10500 : π is  3.1272380952380954\n",
      "Trial  10600 : π is  3.127547169811321\n",
      "Trial  10700 : π is  3.129719626168224\n",
      "Trial  10800 : π is  3.127407407407407\n",
      "Trial  10900 : π is  3.1291743119266053\n",
      "Trial  11000 : π is  3.1312727272727274\n",
      "Trial  11100 : π is  3.132972972972973\n",
      "Trial  11200 : π is  3.134642857142857\n",
      "Trial  11300 : π is  3.1341592920353984\n",
      "Trial  11400 : π is  3.136140350877193\n",
      "Trial  11500 : π is  3.1370434782608694\n",
      "Trial  11600 : π is  3.1389655172413793\n",
      "Trial  11700 : π is  3.137777777777778\n",
      "Trial  11800 : π is  3.1366101694915254\n",
      "Trial  11900 : π is  3.137142857142857\n",
      "Trial  12000 : π is  3.1386666666666665\n",
      "Trial  12100 : π is  3.1378512396694216\n",
      "Trial  12200 : π is  3.139672131147541\n",
      "Trial  12300 : π is  3.138536585365854\n",
      "Trial  12400 : π is  3.1370967741935485\n",
      "Trial  12500 : π is  3.13696\n",
      "Trial  12600 : π is  3.1346031746031744\n",
      "Trial  12700 : π is  3.1351181102362204\n",
      "Trial  12800 : π is  3.1346875\n",
      "Trial  12900 : π is  3.1345736434108527\n",
      "Trial  13000 : π is  3.1335384615384614\n",
      "Trial  13100 : π is  3.133740458015267\n",
      "Trial  13200 : π is  3.1342424242424243\n",
      "Trial  13300 : π is  3.133834586466165\n",
      "Trial  13400 : π is  3.1334328358208956\n",
      "Trial  13500 : π is  3.132740740740741\n",
      "Trial  13600 : π is  3.1335294117647057\n",
      "Trial  13700 : π is  3.133138686131387\n",
      "Trial  13800 : π is  3.1344927536231886\n",
      "Trial  13900 : π is  3.135251798561151\n",
      "Trial  14000 : π is  3.1354285714285712\n",
      "Trial  14100 : π is  3.1356028368794324\n",
      "Trial  14200 : π is  3.136338028169014\n",
      "Trial  14300 : π is  3.1353846153846154\n",
      "Trial  14400 : π is  3.1344444444444446\n",
      "Trial  14500 : π is  3.133241379310345\n",
      "Trial  14600 : π is  3.132054794520548\n",
      "Trial  14700 : π is  3.1327891156462586\n",
      "Trial  14800 : π is  3.134324324324324\n",
      "Trial  14900 : π is  3.134228187919463\n",
      "Trial  15000 : π is  3.1346666666666665\n",
      "Trial  15100 : π is  3.1335099337748344\n",
      "Trial  15200 : π is  3.133421052631579\n",
      "Trial  15300 : π is  3.1315032679738564\n",
      "Trial  15400 : π is  3.132727272727273\n",
      "Trial  15500 : π is  3.133677419354839\n",
      "Trial  15600 : π is  3.132820512820513\n",
      "Trial  15700 : π is  3.132229299363057\n",
      "Trial  15800 : π is  3.1324050632911393\n",
      "Trial  15900 : π is  3.1325786163522014\n",
      "Trial  16000 : π is  3.13325\n",
      "Trial  16100 : π is  3.1339130434782607\n",
      "Trial  16200 : π is  3.13358024691358\n",
      "Trial  16300 : π is  3.1357055214723926\n",
      "Trial  16400 : π is  3.1358536585365853\n",
      "Trial  16500 : π is  3.136242424242424\n",
      "Trial  16600 : π is  3.135903614457831\n",
      "Trial  16700 : π is  3.135808383233533\n",
      "Trial  16800 : π is  3.136904761904762\n",
      "Trial  16900 : π is  3.1375147928994083\n",
      "Trial  17000 : π is  3.1376470588235295\n",
      "Trial  17100 : π is  3.1387134502923977\n",
      "Trial  17200 : π is  3.1404651162790698\n",
      "Trial  17300 : π is  3.1403468208092487\n",
      "Trial  17400 : π is  3.139770114942529\n",
      "Trial  17500 : π is  3.1405714285714286\n",
      "Trial  17600 : π is  3.138863636363636\n",
      "Trial  17700 : π is  3.1392090395480228\n",
      "Trial  17800 : π is  3.1391011235955055\n",
      "Trial  17900 : π is  3.137653631284916\n",
      "Trial  18000 : π is  3.1366666666666667\n",
      "Trial  18100 : π is  3.136353591160221\n",
      "Trial  18200 : π is  3.1375824175824176\n",
      "Trial  18300 : π is  3.137704918032787\n",
      "Trial  18400 : π is  3.1365217391304347\n",
      "Trial  18500 : π is  3.1368648648648647\n",
      "Trial  18600 : π is  3.1361290322580646\n",
      "Trial  18700 : π is  3.1360427807486633\n",
      "Trial  18800 : π is  3.1368085106382977\n",
      "Trial  18900 : π is  3.136719576719577\n",
      "Trial  19000 : π is  3.1362105263157893\n",
      "Trial  19100 : π is  3.136544502617801\n",
      "Trial  19200 : π is  3.1366666666666667\n",
      "Trial  19300 : π is  3.1361658031088084\n",
      "Trial  19400 : π is  3.1371134020618556\n",
      "Trial  19500 : π is  3.1374358974358976\n",
      "Trial  19600 : π is  3.136734693877551\n",
      "Trial  19700 : π is  3.13746192893401\n",
      "Trial  19800 : π is  3.138181818181818\n",
      "Trial  19900 : π is  3.1384924623115578\n",
      "Trial  20000 : π is  3.1372\n",
      "Trial  20100 : π is  3.1381094527363183\n",
      "Trial  20200 : π is  3.138019801980198\n",
      "Trial  20300 : π is  3.1369458128078818\n",
      "Trial  20400 : π is  3.137058823529412\n",
      "Trial  20500 : π is  3.135609756097561\n",
      "Trial  20600 : π is  3.135145631067961\n",
      "Trial  20700 : π is  3.13487922705314\n",
      "Trial  20800 : π is  3.1355769230769233\n",
      "Trial  20900 : π is  3.135885167464115\n",
      "Trial  21000 : π is  3.1365714285714286\n",
      "Trial  21100 : π is  3.138388625592417\n",
      "Trial  21200 : π is  3.138490566037736\n",
      "Trial  21300 : π is  3.1384037558685445\n",
      "Trial  21400 : π is  3.1390654205607476\n",
      "Trial  21500 : π is  3.1393488372093024\n",
      "Trial  21600 : π is  3.1403703703703703\n",
      "Trial  21700 : π is  3.1404608294930876\n",
      "Trial  21800 : π is  3.140183486238532\n"
     ]
    },
    {
     "name": "stdout",
     "output_type": "stream",
     "text": [
      "Trial  21900 : π is  3.1399086757990866\n",
      "Trial  22000 : π is  3.14\n",
      "Trial  22100 : π is  3.13972850678733\n",
      "Trial  22200 : π is  3.140720720720721\n",
      "Trial  22300 : π is  3.1397309417040358\n",
      "Trial  22400 : π is  3.1398214285714285\n",
      "Trial  22500 : π is  3.1397333333333335\n",
      "Trial  22600 : π is  3.1401769911504425\n",
      "Trial  22700 : π is  3.1406167400881055\n",
      "Trial  22800 : π is  3.1410526315789475\n",
      "Trial  22900 : π is  3.1407860262008733\n",
      "Trial  23000 : π is  3.1419130434782607\n",
      "Trial  23100 : π is  3.141991341991342\n",
      "Trial  23200 : π is  3.141896551724138\n",
      "Trial  23300 : π is  3.141974248927039\n",
      "Trial  23400 : π is  3.1411965811965814\n",
      "Trial  23500 : π is  3.1417872340425532\n",
      "Trial  23600 : π is  3.142372881355932\n",
      "Trial  23700 : π is  3.1426160337552744\n",
      "Trial  23800 : π is  3.141512605042017\n",
      "Trial  23900 : π is  3.1410878661087867\n",
      "Trial  24000 : π is  3.1416666666666666\n",
      "Trial  24100 : π is  3.142240663900415\n",
      "Trial  24200 : π is  3.1416528925619835\n",
      "Trial  24300 : π is  3.143045267489712\n",
      "Trial  24400 : π is  3.1424590163934427\n",
      "Trial  24500 : π is  3.141714285714286\n",
      "Trial  24600 : π is  3.1417886178861787\n",
      "Trial  24700 : π is  3.14251012145749\n",
      "Trial  24800 : π is  3.1429032258064518\n",
      "Trial  24900 : π is  3.143453815261044\n",
      "Trial  25000 : π is  3.14304\n",
      "Trial  25100 : π is  3.141832669322709\n",
      "Trial  25200 : π is  3.1426984126984125\n",
      "Trial  25300 : π is  3.142766798418972\n",
      "Trial  25400 : π is  3.1436220472440946\n",
      "Trial  25500 : π is  3.1432156862745098\n",
      "Trial  25600 : π is  3.14390625\n",
      "Trial  25700 : π is  3.1436575875486383\n",
      "Trial  25800 : π is  3.1448062015503875\n",
      "Trial  25900 : π is  3.1448648648648647\n",
      "Trial  26000 : π is  3.1458461538461537\n",
      "Trial  26100 : π is  3.1460536398467434\n",
      "Trial  26200 : π is  3.146412213740458\n",
      "Trial  26300 : π is  3.1461596958174907\n",
      "Trial  26400 : π is  3.1466666666666665\n",
      "Trial  26500 : π is  3.1464150943396225\n",
      "Trial  26600 : π is  3.1473684210526316\n",
      "Trial  26700 : π is  3.147116104868914\n",
      "Trial  26800 : π is  3.147313432835821\n",
      "Trial  26900 : π is  3.1475092936802973\n",
      "Trial  27000 : π is  3.148296296296296\n",
      "Trial  27100 : π is  3.1478966789667897\n",
      "Trial  27200 : π is  3.1469117647058824\n",
      "Trial  27300 : π is  3.1473992673992672\n",
      "Trial  27400 : π is  3.1468613138686132\n",
      "Trial  27500 : π is  3.148218181818182\n",
      "Trial  27600 : π is  3.148840579710145\n",
      "Trial  27700 : π is  3.149314079422383\n",
      "Trial  27800 : π is  3.1492086330935254\n",
      "Trial  27900 : π is  3.1488172043010754\n",
      "Trial  28000 : π is  3.1494285714285715\n",
      "Trial  28100 : π is  3.147900355871886\n",
      "Trial  28200 : π is  3.1478014184397165\n",
      "Trial  28300 : π is  3.1478445229681977\n",
      "Trial  28400 : π is  3.1477464788732394\n",
      "Trial  28500 : π is  3.1483508771929825\n",
      "Trial  28600 : π is  3.1482517482517482\n",
      "Trial  28700 : π is  3.1485714285714286\n",
      "Trial  28800 : π is  3.1491666666666664\n",
      "Trial  28900 : π is  3.14878892733564\n",
      "Trial  29000 : π is  3.149655172413793\n",
      "Trial  29100 : π is  3.149828178694158\n",
      "Trial  29200 : π is  3.1494520547945206\n",
      "Trial  29300 : π is  3.1500341296928327\n",
      "Trial  29400 : π is  3.1510204081632653\n",
      "Trial  29500 : π is  3.150101694915254\n",
      "Trial  29600 : π is  3.1504054054054054\n",
      "Trial  29700 : π is  3.1504377104377106\n",
      "Trial  29800 : π is  3.1506040268456377\n",
      "Trial  29900 : π is  3.1499665551839464\n",
      "Trial  30000 : π is  3.1493333333333333\n",
      "Trial  30100 : π is  3.1492358803986713\n",
      "Trial  30200 : π is  3.150198675496689\n",
      "Trial  30300 : π is  3.1494389438943893\n",
      "Trial  30400 : π is  3.15\n",
      "Trial  30500 : π is  3.150426229508197\n",
      "Trial  30600 : π is  3.1499346405228756\n",
      "Trial  30700 : π is  3.1498371335504887\n",
      "Trial  30800 : π is  3.1502597402597403\n",
      "Trial  30900 : π is  3.1499029126213594\n",
      "Trial  31000 : π is  3.150709677419355\n",
      "Trial  31100 : π is  3.1515112540192924\n",
      "Trial  31200 : π is  3.1507692307692308\n",
      "Trial  31300 : π is  3.1501597444089455\n",
      "Trial  31400 : π is  3.1503184713375796\n",
      "Trial  31500 : π is  3.1504761904761907\n",
      "Trial  31600 : π is  3.150379746835443\n",
      "Trial  31700 : π is  3.1506624605678235\n",
      "Trial  31800 : π is  3.150566037735849\n",
      "Trial  31900 : π is  3.1498432601880877\n",
      "Trial  32000 : π is  3.1505\n",
      "Trial  32100 : π is  3.150031152647975\n",
      "Trial  32200 : π is  3.149689440993789\n",
      "Trial  32300 : π is  3.1504643962848298\n",
      "Trial  32400 : π is  3.150493827160494\n",
      "Trial  32500 : π is  3.150892307692308\n",
      "Trial  32600 : π is  3.15079754601227\n",
      "Trial  32700 : π is  3.150703363914373\n",
      "Trial  32800 : π is  3.150121951219512\n",
      "Trial  32900 : π is  3.1501519756838907\n",
      "Trial  33000 : π is  3.150181818181818\n",
      "Trial  33100 : π is  3.1508157099697884\n",
      "Trial  33200 : π is  3.15144578313253\n",
      "Trial  33300 : π is  3.151351351351351\n",
      "Trial  33400 : π is  3.151377245508982\n",
      "Trial  33500 : π is  3.1518805970149253\n",
      "Trial  33600 : π is  3.1514285714285712\n",
      "Trial  33700 : π is  3.1520474777448073\n",
      "Trial  33800 : π is  3.1523076923076925\n",
      "Trial  33900 : π is  3.153156342182891\n",
      "Trial  34000 : π is  3.1534117647058824\n",
      "Trial  34100 : π is  3.153900293255132\n",
      "Trial  34200 : π is  3.1543859649122807\n",
      "Trial  34300 : π is  3.1551020408163266\n",
      "Trial  34400 : π is  3.1548837209302327\n",
      "Trial  34500 : π is  3.1548985507246377\n",
      "Trial  34600 : π is  3.1546820809248555\n",
      "Trial  34700 : π is  3.1546974063400577\n",
      "Trial  34800 : π is  3.1539080459770115\n",
      "Trial  34900 : π is  3.154727793696275\n",
      "Trial  35000 : π is  3.1552\n",
      "Trial  35100 : π is  3.1550997150997153\n",
      "Trial  35200 : π is  3.155568181818182\n",
      "Trial  35300 : π is  3.1560339943342774\n",
      "Trial  35400 : π is  3.156271186440678\n",
      "Trial  35500 : π is  3.1567323943661973\n",
      "Trial  35600 : π is  3.1570786516853935\n",
      "Trial  35700 : π is  3.157198879551821\n",
      "Trial  35800 : π is  3.1575418994413407\n",
      "Trial  35900 : π is  3.1577715877437327\n",
      "Trial  36000 : π is  3.158333333333333\n",
      "Trial  36100 : π is  3.1583379501385043\n",
      "Trial  36200 : π is  3.158563535911602\n",
      "Trial  36300 : π is  3.158457300275482\n",
      "Trial  36400 : π is  3.159010989010989\n",
      "Trial  36500 : π is  3.1585753424657534\n",
      "Trial  36600 : π is  3.1592349726775955\n",
      "Trial  36700 : π is  3.1593460490463214\n",
      "Trial  36800 : π is  3.1596739130434783\n",
      "Trial  36900 : π is  3.159349593495935\n",
      "Trial  37000 : π is  3.1592432432432433\n",
      "Trial  37100 : π is  3.1590296495956873\n",
      "Trial  37200 : π is  3.159247311827957\n",
      "Trial  37300 : π is  3.1586058981233243\n",
      "Trial  37400 : π is  3.1583957219251335\n",
      "Trial  37500 : π is  3.1582933333333334\n",
      "Trial  37600 : π is  3.1586170212765956\n",
      "Trial  37700 : π is  3.15893899204244\n",
      "Trial  37800 : π is  3.158941798941799\n",
      "Trial  37900 : π is  3.159155672823219\n",
      "Trial  38000 : π is  3.159894736842105\n",
      "Trial  38100 : π is  3.159790026246719\n",
      "Trial  38200 : π is  3.1585340314136126\n",
      "Trial  38300 : π is  3.158537859007833\n",
      "Trial  38400 : π is  3.1577083333333333\n",
      "Trial  38500 : π is  3.1574025974025974\n",
      "Trial  38600 : π is  3.1580310880829017\n",
      "Trial  38700 : π is  3.1570025839793283\n",
      "Trial  38800 : π is  3.1563917525773197\n",
      "Trial  38900 : π is  3.1546529562982006\n",
      "Trial  39000 : π is  3.155282051282051\n",
      "Trial  39100 : π is  3.1558056265984655\n",
      "Trial  39200 : π is  3.1560204081632652\n",
      "Trial  39300 : π is  3.156030534351145\n",
      "Trial  39400 : π is  3.1556345177664973\n",
      "Trial  39500 : π is  3.155645569620253\n",
      "Trial  39600 : π is  3.155959595959596\n",
      "Trial  39700 : π is  3.155566750629723\n",
      "Trial  39800 : π is  3.1552763819095477\n",
      "Trial  39900 : π is  3.155187969924812\n",
      "Trial  40000 : π is  3.154\n",
      "Trial  40100 : π is  3.1534164588528677\n",
      "Trial  40200 : π is  3.1536318407960198\n",
      "Trial  40300 : π is  3.153349875930521\n",
      "Trial  40400 : π is  3.153663366336634\n",
      "Trial  40500 : π is  3.1529876543209876\n",
      "Trial  40600 : π is  3.1529064039408867\n",
      "Trial  40700 : π is  3.152825552825553\n",
      "Trial  40800 : π is  3.1526470588235296\n",
      "Trial  40900 : π is  3.1522738386308067\n",
      "Trial  41000 : π is  3.1518048780487806\n",
      "Trial  41100 : π is  3.1523114355231145\n",
      "Trial  41200 : π is  3.152038834951456\n",
      "Trial  41300 : π is  3.1520581113801454\n",
      "Trial  41400 : π is  3.1520772946859905\n",
      "Trial  41500 : π is  3.151710843373494\n",
      "Trial  41600 : π is  3.1509615384615386\n",
      "Trial  41700 : π is  3.1519424460431655\n",
      "Trial  41800 : π is  3.1515789473684213\n",
      "Trial  41900 : π is  3.1516945107398566\n",
      "Trial  42000 : π is  3.1515238095238094\n",
      "Trial  42100 : π is  3.1512589073634203\n",
      "Trial  42200 : π is  3.1511848341232227\n",
      "Trial  42300 : π is  3.1505437352245864\n",
      "Trial  42400 : π is  3.150943396226415\n",
      "Trial  42500 : π is  3.1500235294117647\n",
      "Trial  42600 : π is  3.1506103286384977\n",
      "Trial  42700 : π is  3.1511943793911006\n"
     ]
    },
    {
     "name": "stdout",
     "output_type": "stream",
     "text": [
      "Trial  42800 : π is  3.1509345794392525\n",
      "Trial  42900 : π is  3.1507692307692308\n",
      "Trial  43000 : π is  3.1508837209302327\n",
      "Trial  43100 : π is  3.1509048723897912\n",
      "Trial  43200 : π is  3.151111111111111\n",
      "Trial  43300 : π is  3.1506697459584294\n",
      "Trial  43400 : π is  3.1512442396313363\n",
      "Trial  43500 : π is  3.1515402298850574\n",
      "Trial  43600 : π is  3.1514678899082567\n",
      "Trial  43700 : π is  3.1515789473684213\n",
      "Trial  43800 : π is  3.151598173515982\n",
      "Trial  43900 : π is  3.152164009111617\n",
      "Trial  44000 : π is  3.1513636363636364\n",
      "Trial  44100 : π is  3.151201814058957\n",
      "Trial  44200 : π is  3.1516742081447964\n",
      "Trial  44300 : π is  3.151331828442438\n",
      "Trial  44400 : π is  3.1516216216216217\n",
      "Trial  44500 : π is  3.1510112359550564\n",
      "Trial  44600 : π is  3.1512107623318384\n",
      "Trial  44700 : π is  3.1514988814317673\n",
      "Trial  44800 : π is  3.1513392857142857\n",
      "Trial  44900 : π is  3.1520712694877506\n",
      "Trial  45000 : π is  3.1523555555555554\n",
      "Trial  45100 : π is  3.1529046563192904\n",
      "Trial  45200 : π is  3.152477876106195\n",
      "Trial  45300 : π is  3.1525827814569536\n",
      "Trial  45400 : π is  3.1524229074889867\n",
      "Trial  45500 : π is  3.152087912087912\n",
      "Trial  45600 : π is  3.1515789473684213\n",
      "Trial  45700 : π is  3.1521225382932165\n",
      "Trial  45800 : π is  3.151353711790393\n",
      "Trial  45900 : π is  3.1508496732026146\n",
      "Trial  46000 : π is  3.150521739130435\n",
      "Trial  46100 : π is  3.1503687635574837\n",
      "Trial  46200 : π is  3.1502164502164502\n",
      "Trial  46300 : π is  3.1494600431965445\n",
      "Trial  46400 : π is  3.1494827586206897\n",
      "Trial  46500 : π is  3.149763440860215\n",
      "Trial  46600 : π is  3.149785407725322\n",
      "Trial  46700 : π is  3.149807280513919\n",
      "Trial  46800 : π is  3.15\n",
      "Trial  46900 : π is  3.1500213219616207\n",
      "Trial  47000 : π is  3.150382978723404\n",
      "Trial  47100 : π is  3.150488322717622\n",
      "Trial  47200 : π is  3.1505932203389833\n",
      "Trial  47300 : π is  3.150951374207188\n",
      "Trial  47400 : π is  3.150970464135021\n",
      "Trial  47500 : π is  3.151157894736842\n",
      "Trial  47600 : π is  3.151512605042017\n",
      "Trial  47700 : π is  3.151865828092243\n",
      "Trial  47800 : π is  3.152133891213389\n",
      "Trial  47900 : π is  3.151899791231733\n",
      "Trial  48000 : π is  3.15125\n",
      "Trial  48100 : π is  3.1517671517671517\n",
      "Trial  48200 : π is  3.1522821576763485\n",
      "Trial  48300 : π is  3.152215320910973\n",
      "Trial  48400 : π is  3.1521487603305784\n",
      "Trial  48500 : π is  3.152659793814433\n",
      "Trial  48600 : π is  3.1525102880658435\n",
      "Trial  48700 : π is  3.1518685831622175\n",
      "Trial  48800 : π is  3.151639344262295\n",
      "Trial  48900 : π is  3.1516564417177912\n",
      "Trial  49000 : π is  3.150857142857143\n",
      "Trial  49100 : π is  3.1510386965376784\n",
      "Trial  49200 : π is  3.1508943089430894\n",
      "Trial  49300 : π is  3.1505882352941175\n",
      "Trial  49400 : π is  3.150526315789474\n",
      "Trial  49500 : π is  3.1503838383838385\n",
      "Trial  49600 : π is  3.150725806451613\n",
      "Trial  49700 : π is  3.150824949698189\n",
      "Trial  49800 : π is  3.151244979919679\n",
      "Trial  49900 : π is  3.1507815631262526\n",
      "Trial  50000 : π is  3.15104\n",
      "Trial  50100 : π is  3.1508982035928144\n",
      "Trial  50200 : π is  3.1508366533864542\n",
      "Trial  50300 : π is  3.1506958250497017\n",
      "Trial  50400 : π is  3.150873015873016\n",
      "Trial  50500 : π is  3.151762376237624\n",
      "Trial  50600 : π is  3.15201581027668\n",
      "Trial  50700 : π is  3.1521104536489153\n",
      "Trial  50800 : π is  3.1523622047244095\n",
      "Trial  50900 : π is  3.1524557956777994\n",
      "Trial  51000 : π is  3.152627450980392\n",
      "Trial  51100 : π is  3.15279843444227\n",
      "Trial  51200 : π is  3.153125\n",
      "Trial  51300 : π is  3.1530604288499027\n",
      "Trial  51400 : π is  3.1524513618677044\n",
      "Trial  51500 : π is  3.1522330097087377\n",
      "Trial  51600 : π is  3.1525581395348836\n",
      "Trial  51700 : π is  3.1531141199226305\n",
      "Trial  51800 : π is  3.153050193050193\n",
      "Trial  51900 : π is  3.153217726396917\n",
      "Trial  52000 : π is  3.152769230769231\n",
      "Trial  52100 : π is  3.152859884836852\n",
      "Trial  52200 : π is  3.153256704980843\n",
      "Trial  52300 : π is  3.1532695984703634\n",
      "Trial  52400 : π is  3.1531297709923662\n",
      "Trial  52500 : π is  3.1529142857142856\n",
      "Trial  52600 : π is  3.1523954372623573\n",
      "Trial  52700 : π is  3.152865275142315\n",
      "Trial  52800 : π is  3.1529545454545453\n",
      "Trial  52900 : π is  3.153119092627599\n",
      "Trial  53000 : π is  3.153132075471698\n",
      "Trial  53100 : π is  3.153822975517891\n",
      "Trial  53200 : π is  3.1542105263157896\n",
      "Trial  53300 : π is  3.154296435272045\n",
      "Trial  53400 : π is  3.1540823970037453\n",
      "Trial  53500 : π is  3.1537943925233645\n",
      "Trial  53600 : π is  3.1533582089552237\n",
      "Trial  53700 : π is  3.153221601489758\n",
      "Trial  53800 : π is  3.1531598513011154\n",
      "Trial  53900 : π is  3.153246753246753\n",
      "Trial  54000 : π is  3.153037037037037\n",
      "Trial  54100 : π is  3.1526802218114605\n",
      "Trial  54200 : π is  3.1523247232472325\n",
      "Trial  54300 : π is  3.15219152854512\n",
      "Trial  54400 : π is  3.151985294117647\n",
      "Trial  54500 : π is  3.1521467889908257\n",
      "Trial  54600 : π is  3.152087912087912\n",
      "Trial  54700 : π is  3.152248628884826\n",
      "Trial  54800 : π is  3.1515328467153285\n",
      "Trial  54900 : π is  3.151256830601093\n",
      "Trial  55000 : π is  3.1512727272727274\n",
      "Trial  55100 : π is  3.151288566243194\n",
      "Trial  55200 : π is  3.1508695652173913\n",
      "Trial  55300 : π is  3.151030741410488\n",
      "Trial  55400 : π is  3.1514801444043323\n",
      "Trial  55500 : π is  3.150918918918919\n",
      "Trial  55600 : π is  3.150359712230216\n",
      "Trial  55700 : π is  3.1504488330341114\n",
      "Trial  55800 : π is  3.1506810035842294\n",
      "Trial  55900 : π is  3.150912343470483\n",
      "Trial  56000 : π is  3.1509285714285715\n",
      "Trial  56100 : π is  3.1510160427807485\n",
      "Trial  56200 : π is  3.1508896797153025\n",
      "Trial  56300 : π is  3.1508348134991118\n",
      "Trial  56400 : π is  3.1505673758865247\n",
      "Trial  56500 : π is  3.1508672566371683\n",
      "Trial  56600 : π is  3.150671378091873\n",
      "Trial  56700 : π is  3.150546737213404\n",
      "Trial  56800 : π is  3.150774647887324\n",
      "Trial  56900 : π is  3.150720562390158\n",
      "Trial  57000 : π is  3.1505964912280704\n",
      "Trial  57100 : π is  3.150753064798599\n",
      "Trial  57200 : π is  3.15006993006993\n",
      "Trial  57300 : π is  3.150087260034904\n",
      "Trial  57400 : π is  3.1497560975609757\n",
      "Trial  57500 : π is  3.1500521739130436\n",
      "Trial  57600 : π is  3.1502083333333335\n",
      "Trial  57700 : π is  3.1498093587521665\n",
      "Trial  57800 : π is  3.1495501730103808\n",
      "Trial  57900 : π is  3.149637305699482\n",
      "Trial  58000 : π is  3.149103448275862\n",
      "Trial  58100 : π is  3.1492598967297765\n",
      "Trial  58200 : π is  3.1487972508591064\n",
      "Trial  58300 : π is  3.1488164665523155\n",
      "Trial  58400 : π is  3.149041095890411\n",
      "Trial  58500 : π is  3.1485128205128206\n",
      "Trial  58600 : π is  3.1484641638225255\n",
      "Trial  58700 : π is  3.149097103918228\n",
      "Trial  58800 : π is  3.149387755102041\n",
      "Trial  58900 : π is  3.1495415959252973\n",
      "Trial  59000 : π is  3.1492881355932205\n",
      "Trial  59100 : π is  3.1494416243654824\n",
      "Trial  59200 : π is  3.1495270270270272\n",
      "Trial  59300 : π is  3.149679595278246\n",
      "Trial  59400 : π is  3.14969696969697\n",
      "Trial  59500 : π is  3.149714285714286\n",
      "Trial  59600 : π is  3.1493959731543626\n",
      "Trial  59700 : π is  3.1491457286432163\n",
      "Trial  59800 : π is  3.149163879598662\n",
      "Trial  59900 : π is  3.1495826377295493\n",
      "Trial  60000 : π is  3.1490666666666667\n",
      "Trial  60100 : π is  3.149018302828619\n",
      "Trial  60200 : π is  3.148372093023256\n",
      "Trial  60300 : π is  3.14832504145937\n",
      "Trial  60400 : π is  3.148476821192053\n",
      "Trial  60500 : π is  3.148099173553719\n",
      "Trial  60600 : π is  3.1478547854785477\n",
      "Trial  60700 : π is  3.14833607907743\n",
      "Trial  60800 : π is  3.1486842105263158\n",
      "Trial  60900 : π is  3.148045977011494\n",
      "Trial  61000 : π is  3.1479344262295084\n",
      "Trial  61100 : π is  3.1482160392798693\n",
      "Trial  61200 : π is  3.1480392156862744\n",
      "Trial  61300 : π is  3.147862969004894\n",
      "Trial  61400 : π is  3.147882736156352\n",
      "Trial  61500 : π is  3.1474471544715446\n",
      "Trial  61600 : π is  3.147077922077922\n",
      "Trial  61700 : π is  3.146839546191248\n",
      "Trial  61800 : π is  3.1471197411003238\n",
      "Trial  61900 : π is  3.1476575121163166\n",
      "Trial  62000 : π is  3.147548387096774\n",
      "Trial  62100 : π is  3.1473107890499197\n",
      "Trial  62200 : π is  3.1471382636655947\n",
      "Trial  62300 : π is  3.147223113964687\n",
      "Trial  62400 : π is  3.1472435897435895\n",
      "Trial  62500 : π is  3.1472\n",
      "Trial  62600 : π is  3.1472843450479235\n",
      "Trial  62700 : π is  3.1472408293460923\n",
      "Trial  62800 : π is  3.14687898089172\n",
      "Trial  62900 : π is  3.1466454689984102\n",
      "Trial  63000 : π is  3.1462857142857144\n",
      "Trial  63100 : π is  3.1464976228209194\n",
      "Trial  63200 : π is  3.1465822784810125\n",
      "Trial  63300 : π is  3.146603475513428\n",
      "Trial  63400 : π is  3.146435331230284\n",
      "Trial  63500 : π is  3.146456692913386\n",
      "Trial  63600 : π is  3.1462893081761005\n"
     ]
    },
    {
     "name": "stdout",
     "output_type": "stream",
     "text": [
      "Trial  63700 : π is  3.1462480376766093\n",
      "Trial  63800 : π is  3.146269592476489\n",
      "Trial  63900 : π is  3.1461658841940534\n",
      "Trial  64000 : π is  3.1465625\n",
      "Trial  64100 : π is  3.146833073322933\n",
      "Trial  64200 : π is  3.1466666666666665\n",
      "Trial  64300 : π is  3.1469984447900465\n",
      "Trial  64400 : π is  3.147080745341615\n",
      "Trial  64500 : π is  3.147410852713178\n",
      "Trial  64600 : π is  3.1473684210526316\n",
      "Trial  64700 : π is  3.1471406491499225\n",
      "Trial  64800 : π is  3.147283950617284\n",
      "Trial  64900 : π is  3.1472419106317413\n",
      "Trial  65000 : π is  3.1472615384615383\n",
      "Trial  65100 : π is  3.1469124423963133\n",
      "Trial  65200 : π is  3.1468098159509204\n",
      "Trial  65300 : π is  3.147136294027565\n",
      "Trial  65400 : π is  3.147217125382263\n",
      "Trial  65500 : π is  3.1472977099236643\n",
      "Trial  65600 : π is  3.147012195121951\n",
      "Trial  65700 : π is  3.146910197869102\n",
      "Trial  65800 : π is  3.1466261398176294\n",
      "Trial  65900 : π is  3.1467071320182094\n",
      "Trial  66000 : π is  3.146909090909091\n",
      "Trial  66100 : π is  3.1465658093797275\n",
      "Trial  66200 : π is  3.1465861027190334\n",
      "Trial  66300 : π is  3.146787330316742\n",
      "Trial  66400 : π is  3.146987951807229\n",
      "Trial  66500 : π is  3.147187969924812\n",
      "Trial  66600 : π is  3.1476876876876876\n",
      "Trial  66700 : π is  3.147766116941529\n",
      "Trial  66800 : π is  3.1478443113772454\n",
      "Trial  66900 : π is  3.1480418535127055\n",
      "Trial  67000 : π is  3.147820895522388\n",
      "Trial  67100 : π is  3.147779433681073\n",
      "Trial  67200 : π is  3.147559523809524\n",
      "Trial  67300 : π is  3.1472808320950967\n",
      "Trial  67400 : π is  3.1464688427299703\n",
      "Trial  67500 : π is  3.1464296296296297\n",
      "Trial  67600 : π is  3.1463905325443786\n",
      "Trial  67700 : π is  3.146351550960118\n",
      "Trial  67800 : π is  3.1459587020648967\n",
      "Trial  67900 : π is  3.1456259204712813\n",
      "Trial  68000 : π is  3.1457058823529414\n",
      "Trial  68100 : π is  3.145785609397944\n",
      "Trial  68200 : π is  3.1458651026392963\n",
      "Trial  68300 : π is  3.1460029282576865\n",
      "Trial  68400 : π is  3.146198830409357\n",
      "Trial  68500 : π is  3.145985401459854\n",
      "Trial  68600 : π is  3.1458309037900873\n",
      "Trial  68700 : π is  3.1461426491994176\n",
      "Trial  68800 : π is  3.1463372093023256\n",
      "Trial  68900 : π is  3.146008708272859\n",
      "Trial  69000 : π is  3.1455652173913045\n",
      "Trial  69100 : π is  3.1454703328509406\n",
      "Trial  69200 : π is  3.1453757225433527\n",
      "Trial  69300 : π is  3.1452813852813852\n",
      "Trial  69400 : π is  3.145533141210375\n",
      "Trial  69500 : π is  3.1452661870503595\n",
      "Trial  69600 : π is  3.145574712643678\n",
      "Trial  69700 : π is  3.1459397417503587\n",
      "Trial  69800 : π is  3.14567335243553\n",
      "Trial  69900 : π is  3.146151645207439\n",
      "Trial  70000 : π is  3.1463428571428573\n",
      "Trial  70100 : π is  3.1463623395149787\n",
      "Trial  70200 : π is  3.146039886039886\n",
      "Trial  70300 : π is  3.146116642958748\n",
      "Trial  70400 : π is  3.145681818181818\n",
      "Trial  70500 : π is  3.1460992907801417\n",
      "Trial  70600 : π is  3.146118980169972\n",
      "Trial  70700 : π is  3.146082036775106\n",
      "Trial  70800 : π is  3.145988700564972\n",
      "Trial  70900 : π is  3.1459520451339915\n",
      "Trial  71000 : π is  3.1460845070422536\n",
      "Trial  71100 : π is  3.1458790436005626\n",
      "Trial  71200 : π is  3.146067415730337\n",
      "Trial  71300 : π is  3.1458064516129034\n",
      "Trial  71400 : π is  3.1458823529411766\n",
      "Trial  71500 : π is  3.146125874125874\n",
      "Trial  71600 : π is  3.145977653631285\n",
      "Trial  71700 : π is  3.1458298465829846\n",
      "Trial  71800 : π is  3.1457381615598887\n",
      "Trial  71900 : π is  3.145980528511822\n",
      "Trial  72000 : π is  3.1458333333333335\n",
      "Trial  72100 : π is  3.145963938973648\n",
      "Trial  72200 : π is  3.1461495844875347\n",
      "Trial  72300 : π is  3.1462793914246197\n",
      "Trial  72400 : π is  3.146187845303867\n",
      "Trial  72500 : π is  3.1458206896551726\n",
      "Trial  72600 : π is  3.145895316804408\n",
      "Trial  72700 : π is  3.14585969738652\n",
      "Trial  72800 : π is  3.146098901098901\n",
      "Trial  72900 : π is  3.1458984910836763\n",
      "Trial  73000 : π is  3.145315068493151\n",
      "Trial  73100 : π is  3.145280437756498\n",
      "Trial  73200 : π is  3.145136612021858\n",
      "Trial  73300 : π is  3.1448840381991814\n",
      "Trial  73400 : π is  3.1450136239782016\n",
      "Trial  73500 : π is  3.144761904761905\n",
      "Trial  73600 : π is  3.1445652173913046\n",
      "Trial  73700 : π is  3.1448032564450474\n",
      "Trial  73800 : π is  3.144769647696477\n",
      "Trial  73900 : π is  3.1446278755074424\n",
      "Trial  74000 : π is  3.1445945945945946\n",
      "Trial  74100 : π is  3.1446693657219975\n",
      "Trial  74200 : π is  3.1448517520215633\n",
      "Trial  74300 : π is  3.1451413189771196\n",
      "Trial  74400 : π is  3.1452688172043013\n",
      "Trial  74500 : π is  3.1453422818791945\n",
      "Trial  74600 : π is  3.145093833780161\n",
      "Trial  74700 : π is  3.144738955823293\n",
      "Trial  74800 : π is  3.1449732620320856\n",
      "Trial  74900 : π is  3.1450467289719626\n",
      "Trial  75000 : π is  3.1450133333333334\n",
      "Trial  75100 : π is  3.144820239680426\n",
      "Trial  75200 : π is  3.144840425531915\n",
      "Trial  75300 : π is  3.1445418326693226\n",
      "Trial  75400 : π is  3.1445623342175066\n",
      "Trial  75500 : π is  3.1444238410596026\n",
      "Trial  75600 : π is  3.1441269841269843\n",
      "Trial  75700 : π is  3.1439365918097755\n",
      "Trial  75800 : π is  3.143588390501319\n",
      "Trial  75900 : π is  3.1433465085639\n",
      "Trial  76000 : π is  3.143684210526316\n",
      "Trial  76100 : π is  3.1432851511169515\n",
      "Trial  76200 : π is  3.143149606299213\n",
      "Trial  76300 : π is  3.1430668414154654\n",
      "Trial  76400 : π is  3.143089005235602\n",
      "Trial  76500 : π is  3.1426928104575165\n",
      "Trial  76600 : π is  3.142349869451697\n",
      "Trial  76700 : π is  3.142529335071708\n",
      "Trial  76800 : π is  3.1425520833333334\n",
      "Trial  76900 : π is  3.142886866059818\n",
      "Trial  77000 : π is  3.143012987012987\n",
      "Trial  77100 : π is  3.1432944228274966\n",
      "Trial  77200 : π is  3.143367875647668\n",
      "Trial  77300 : π is  3.1434928848641657\n",
      "Trial  77400 : π is  3.1433074935400516\n",
      "Trial  77500 : π is  3.1430193548387098\n",
      "Trial  77600 : π is  3.14340206185567\n",
      "Trial  77700 : π is  3.1436293436293434\n",
      "Trial  77800 : π is  3.143650385604113\n",
      "Trial  77900 : π is  3.1438254172015405\n",
      "Trial  78000 : π is  3.1439487179487178\n",
      "Trial  78100 : π is  3.144122919334187\n",
      "Trial  78200 : π is  3.144092071611253\n",
      "Trial  78300 : π is  3.1443167305236273\n",
      "Trial  78400 : π is  3.1444897959183673\n",
      "Trial  78500 : π is  3.1444585987261147\n",
      "Trial  78600 : π is  3.1446310432569975\n",
      "Trial  78700 : π is  3.1447522236340535\n",
      "Trial  78800 : π is  3.1448730964467004\n",
      "Trial  78900 : π is  3.144942965779468\n",
      "Trial  79000 : π is  3.145012658227848\n",
      "Trial  79100 : π is  3.144677623261694\n",
      "Trial  79200 : π is  3.1445959595959594\n",
      "Trial  79300 : π is  3.1443631778058005\n",
      "Trial  79400 : π is  3.1445340050377832\n",
      "Trial  79500 : π is  3.1444025157232702\n",
      "Trial  79600 : π is  3.1447738693467335\n",
      "Trial  79700 : π is  3.1445922208281054\n",
      "Trial  79800 : π is  3.1447117794486217\n",
      "Trial  79900 : π is  3.1445306633291614\n",
      "Trial  80000 : π is  3.1447\n",
      "Trial  80100 : π is  3.144469413233458\n",
      "Trial  80200 : π is  3.1446882793017457\n",
      "Trial  80300 : π is  3.144956413449564\n",
      "Trial  80400 : π is  3.1451243781094527\n",
      "Trial  80500 : π is  3.1450434782608694\n",
      "Trial  80600 : π is  3.1450620347394542\n",
      "Trial  80700 : π is  3.145080545229244\n",
      "Trial  80800 : π is  3.145049504950495\n",
      "Trial  80900 : π is  3.1449690976514213\n",
      "Trial  81000 : π is  3.145037037037037\n",
      "Trial  81100 : π is  3.144956843403206\n",
      "Trial  81200 : π is  3.1451231527093597\n",
      "Trial  81300 : π is  3.145141451414514\n",
      "Trial  81400 : π is  3.1452088452088454\n",
      "Trial  81500 : π is  3.145472392638037\n",
      "Trial  81600 : π is  3.1455882352941176\n",
      "Trial  81700 : π is  3.1455569155446756\n",
      "Trial  81800 : π is  3.1458190709046456\n",
      "Trial  81900 : π is  3.145885225885226\n",
      "Trial  82000 : π is  3.1457073170731706\n",
      "Trial  82100 : π is  3.1457734470158343\n",
      "Trial  82200 : π is  3.1461800486618006\n",
      "Trial  82300 : π is  3.1457594167679224\n",
      "Trial  82400 : π is  3.145970873786408\n",
      "Trial  82500 : π is  3.1460363636363637\n",
      "Trial  82600 : π is  3.1463438256658596\n",
      "Trial  82700 : π is  3.1460701330108827\n",
      "Trial  82800 : π is  3.146328502415459\n",
      "Trial  82900 : π is  3.146731001206273\n",
      "Trial  83000 : π is  3.1469397590361448\n",
      "Trial  83100 : π is  3.146955475330927\n",
      "Trial  83200 : π is  3.1472115384615384\n",
      "Trial  83300 : π is  3.146938775510204\n",
      "Trial  83400 : π is  3.147146282973621\n",
      "Trial  83500 : π is  3.1472095808383234\n",
      "Trial  83600 : π is  3.147177033492823\n",
      "Trial  83700 : π is  3.146905615292712\n",
      "Trial  83800 : π is  3.147112171837709\n",
      "Trial  83900 : π is  3.147413587604291\n",
      "Trial  84000 : π is  3.1472857142857142\n",
      "Trial  84100 : π is  3.1474435196195008\n",
      "Trial  84200 : π is  3.147648456057007\n",
      "Trial  84300 : π is  3.147378410438909\n",
      "Trial  84400 : π is  3.1472037914691944\n"
     ]
    },
    {
     "name": "stdout",
     "output_type": "stream",
     "text": [
      "Trial  84500 : π is  3.14712426035503\n",
      "Trial  84600 : π is  3.146761229314421\n",
      "Trial  84700 : π is  3.146871310507674\n",
      "Trial  84800 : π is  3.146933962264151\n",
      "Trial  84900 : π is  3.1470906949352178\n",
      "Trial  85000 : π is  3.147105882352941\n",
      "Trial  85100 : π is  3.1474030552291423\n",
      "Trial  85200 : π is  3.1473708920187793\n",
      "Trial  85300 : π is  3.1474794841735054\n",
      "Trial  85400 : π is  3.1475878220140516\n",
      "Trial  85500 : π is  3.1477894736842105\n",
      "Trial  85600 : π is  3.1478971962616824\n",
      "Trial  85700 : π is  3.1476779463243876\n",
      "Trial  85800 : π is  3.147692307692308\n",
      "Trial  85900 : π is  3.1472409778812573\n",
      "Trial  86000 : π is  3.1476279069767443\n",
      "Trial  86100 : π is  3.1476887340301976\n",
      "Trial  86200 : π is  3.148027842227378\n",
      "Trial  86300 : π is  3.147995365005794\n",
      "Trial  86400 : π is  3.1479166666666667\n",
      "Trial  86500 : π is  3.1478381502890174\n",
      "Trial  86600 : π is  3.1479907621247114\n",
      "Trial  86700 : π is  3.148143021914648\n",
      "Trial  86800 : π is  3.148110599078341\n",
      "Trial  86900 : π is  3.1484004602991944\n",
      "Trial  87000 : π is  3.148183908045977\n",
      "Trial  87100 : π is  3.148243398392652\n",
      "Trial  87200 : π is  3.148211009174312\n",
      "Trial  87300 : π is  3.1481786941580756\n",
      "Trial  87400 : π is  3.148054919908467\n",
      "Trial  87500 : π is  3.148342857142857\n",
      "Trial  87600 : π is  3.1483561643835616\n",
      "Trial  87700 : π is  3.148460661345496\n",
      "Trial  87800 : π is  3.14874715261959\n",
      "Trial  87900 : π is  3.148759954493743\n",
      "Trial  88000 : π is  3.148772727272727\n",
      "Trial  88100 : π is  3.149103291713961\n",
      "Trial  88200 : π is  3.1489795918367345\n",
      "Trial  88300 : π is  3.149309173272933\n",
      "Trial  88400 : π is  3.1493212669683257\n",
      "Trial  88500 : π is  3.1494237288135594\n",
      "Trial  88600 : π is  3.149571106094808\n",
      "Trial  88700 : π is  3.1492220969560316\n",
      "Trial  88800 : π is  3.149189189189189\n",
      "Trial  88900 : π is  3.149156355455568\n",
      "Trial  89000 : π is  3.149123595505618\n",
      "Trial  89100 : π is  3.1490460157126825\n",
      "Trial  89200 : π is  3.14914798206278\n",
      "Trial  89300 : π is  3.1488465845464724\n",
      "Trial  89400 : π is  3.1485906040268454\n",
      "Trial  89500 : π is  3.1484245810055866\n",
      "Trial  89600 : π is  3.148482142857143\n",
      "Trial  89700 : π is  3.148628762541806\n",
      "Trial  89800 : π is  3.1487750556792875\n",
      "Trial  89900 : π is  3.1490100111234707\n",
      "Trial  90000 : π is  3.1489333333333334\n",
      "Trial  90100 : π is  3.1488124306326304\n",
      "Trial  90200 : π is  3.149179600886918\n",
      "Trial  90300 : π is  3.149280177187154\n",
      "Trial  90400 : π is  3.1493805309734513\n",
      "Trial  90500 : π is  3.149657458563536\n",
      "Trial  90600 : π is  3.1494922737306843\n",
      "Trial  90700 : π is  3.149459757442117\n",
      "Trial  90800 : π is  3.1496035242290747\n",
      "Trial  90900 : π is  3.14970297029703\n",
      "Trial  91000 : π is  3.1496703296703297\n",
      "Trial  91100 : π is  3.1500768386388582\n",
      "Trial  91200 : π is  3.1501315789473683\n",
      "Trial  91300 : π is  3.1501423877327492\n",
      "Trial  91400 : π is  3.1500218818380743\n",
      "Trial  91500 : π is  3.1503387978142077\n",
      "Trial  91600 : π is  3.1501310043668123\n",
      "Trial  91700 : π is  3.150141766630316\n",
      "Trial  91800 : π is  3.1499346405228756\n",
      "Trial  91900 : π is  3.150119695321001\n",
      "Trial  92000 : π is  3.1502608695652174\n",
      "Trial  92100 : π is  3.1504017372421282\n",
      "Trial  92200 : π is  3.150238611713666\n",
      "Trial  92300 : π is  3.1501191765980496\n",
      "Trial  92400 : π is  3.15017316017316\n",
      "Trial  92500 : π is  3.1497513513513513\n",
      "Trial  92600 : π is  3.1496760259179264\n",
      "Trial  92700 : π is  3.1494714131607338\n",
      "Trial  92800 : π is  3.149568965517241\n",
      "Trial  92900 : π is  3.149709364908504\n",
      "Trial  93000 : π is  3.1495913978494623\n",
      "Trial  93100 : π is  3.1493018259935552\n",
      "Trial  93200 : π is  3.149227467811159\n",
      "Trial  93300 : π is  3.1489817792068595\n",
      "Trial  93400 : π is  3.1490792291220555\n",
      "Trial  93500 : π is  3.148705882352941\n",
      "Trial  93600 : π is  3.148931623931624\n",
      "Trial  93700 : π is  3.1488580576307363\n",
      "Trial  93800 : π is  3.148869936034115\n",
      "Trial  93900 : π is  3.1487965921192758\n",
      "Trial  94000 : π is  3.1486382978723406\n",
      "Trial  94100 : π is  3.1485653560042506\n",
      "Trial  94200 : π is  3.14828025477707\n",
      "Trial  94300 : π is  3.1482502651113466\n",
      "Trial  94400 : π is  3.1482203389830508\n",
      "Trial  94500 : π is  3.14831746031746\n",
      "Trial  94600 : π is  3.148118393234672\n",
      "Trial  94700 : π is  3.148426610348469\n",
      "Trial  94800 : π is  3.148523206751055\n",
      "Trial  94900 : π is  3.1484510010537408\n",
      "Trial  95000 : π is  3.1483368421052633\n",
      "Trial  95100 : π is  3.1484752891692955\n",
      "Trial  95200 : π is  3.148361344537815\n",
      "Trial  95300 : π is  3.1480797481636937\n",
      "Trial  95400 : π is  3.148050314465409\n",
      "Trial  95500 : π is  3.1478952879581152\n",
      "Trial  95600 : π is  3.147991631799163\n",
      "Trial  95700 : π is  3.148171368861024\n",
      "Trial  95800 : π is  3.1481837160751565\n",
      "Trial  95900 : π is  3.148488008342023\n",
      "Trial  96000 : π is  3.148625\n",
      "Trial  96100 : π is  3.148428720083247\n",
      "Trial  96200 : π is  3.148066528066528\n",
      "Trial  96300 : π is  3.1479543094496365\n",
      "Trial  96400 : π is  3.1479668049792533\n",
      "Trial  96500 : π is  3.147647668393782\n",
      "Trial  96600 : π is  3.1477018633540372\n",
      "Trial  96700 : π is  3.1476318510858325\n",
      "Trial  96800 : π is  3.147396694214876\n",
      "Trial  96900 : π is  3.1473271413828687\n",
      "Trial  97000 : π is  3.1471340206185565\n",
      "Trial  97100 : π is  3.1472296601441814\n",
      "Trial  97200 : π is  3.146954732510288\n",
      "Trial  97300 : π is  3.1470503597122303\n",
      "Trial  97400 : π is  3.1473921971252565\n",
      "Trial  97500 : π is  3.1474871794871793\n",
      "Trial  97600 : π is  3.1474590163934426\n",
      "Trial  97700 : π is  3.147594677584442\n",
      "Trial  97800 : π is  3.1476482617586914\n",
      "Trial  97900 : π is  3.147538304392237\n",
      "Trial  98000 : π is  3.1478367346938776\n",
      "Trial  98100 : π is  3.147686034658512\n",
      "Trial  98200 : π is  3.1475763747454173\n",
      "Trial  98300 : π is  3.1475076297049847\n",
      "Trial  98400 : π is  3.14739837398374\n",
      "Trial  98500 : π is  3.147736040609137\n",
      "Trial  98600 : π is  3.147707910750507\n",
      "Trial  98700 : π is  3.1477203647416414\n",
      "Trial  98800 : π is  3.147894736842105\n",
      "Trial  98900 : π is  3.147866531850354\n",
      "Trial  99000 : π is  3.1475555555555554\n",
      "Trial  99100 : π is  3.14736629667003\n",
      "Trial  99200 : π is  3.1471370967741934\n",
      "Trial  99300 : π is  3.147069486404834\n",
      "Trial  99400 : π is  3.1468812877263583\n",
      "Trial  99500 : π is  3.146934673366834\n",
      "Trial  99600 : π is  3.1468273092369476\n",
      "Trial  99700 : π is  3.1469207622868605\n",
      "Trial  99800 : π is  3.147014028056112\n",
      "Trial  99900 : π is  3.1467067067067065\n",
      "Trial  100000 : π is  3.14652\n"
     ]
    },
    {
     "data": {
      "image/png": "[encoded data removed]",
      "text/plain": [
       "<Figure size 432x288 with 1 Axes>"
      ]
     },
     "metadata": {
      "needs_background": "light"
     },
     "output_type": "display_data"
    },
    {
     "name": "stdout",
     "output_type": "stream",
     "text": [
      "3.14652\n"
     ]
    }
   ],
   "source": [
    "import numpy as np\n",
    "\n",
    "trial = 100000\n",
    "inCircle = 0\n",
    "\n",
    "# Draw circle with radius 1 : x^2 + y^2 = 1\n",
    "circle = plt.Circle((0, 0), radius = 1, color='black', fill=False)\n",
    "ax = plt.gca()\n",
    "ax.add_artist(circle)\n",
    "\n",
    "# Plot with uniform dist\n",
    "for i in range(trial):\n",
    "    x = np.random.uniform(-1,1)\n",
    "    y = np.random.uniform(-1,1)\n",
    "    \n",
    "    if (x**2 + y**2 < 1):\n",
    "        inCircle += 1\n",
    "        plt.scatter(x, y, s = 1, color = \"black\")\n",
    "    else:\n",
    "        plt.scatter(x, y, s = 1, color = \"blue\")\n",
    "        \n",
    "        \n",
    "    if ((i+1) % 100 == 0):\n",
    "        print(\"Trial \", i+1, \": π is \", (inCircle / (i+1)) * 4 )\n",
    "            \n",
    "# Show the canvas and calculate the answer\n",
    "plt.axis([-1, 1, -1, 1])\n",
    "plt.show()\n",
    "\n",
    "ratio = inCircle/trial\n",
    "π = ratio * 4\n",
    "print(π)"
   ]
  },
  {
   "cell_type": "markdown",
   "metadata": {},
   "source": [
    "Your hints are as follows:\n",
    "\n",
    "- If $ U $ is a bivariate uniform random variable on the unit square $ (0, 1)^2 $, then the probability that $ U $ lies in a subset $ B $ of $ (0,1)^2 $ is equal to the area of $ B $.  \n",
    "- If $ U_1,\\ldots,U_n $ are IID copies of $ U $, then, as $ n $ gets large, the fraction that falls in $ B $, converges to the probability of landing in $ B $.  \n",
    "- For a circle, $ area = \\pi * radius^2 $.  "
   ]
  },
  {
   "cell_type": "markdown",
   "metadata": {},
   "source": [
    "## Solutions"
   ]
  },
  {
   "cell_type": "markdown",
   "metadata": {},
   "source": [
    "### Exercise 1\n",
    "\n",
    "Here’s one solution."
   ]
  },
  {
   "cell_type": "code",
   "execution_count": null,
   "metadata": {
    "hide-output": false
   },
   "outputs": [],
   "source": [
    "α = 0.9\n",
    "T = 200\n",
    "x = np.empty(T+1)\n",
    "x[0] = 0\n",
    "\n",
    "for t in range(T):\n",
    "    x[t+1] = α * x[t] + np.random.randn()\n",
    "\n",
    "plt.plot(x)\n",
    "plt.show()"
   ]
  },
  {
   "cell_type": "markdown",
   "metadata": {},
   "source": [
    "### Exercise 2"
   ]
  },
  {
   "cell_type": "code",
   "execution_count": null,
   "metadata": {
    "hide-output": false
   },
   "outputs": [],
   "source": [
    "α_values = [0.0, 0.8, 0.98]\n",
    "T = 200\n",
    "x = np.empty(T+1)\n",
    "\n",
    "for α in α_values:\n",
    "    x[0] = 0\n",
    "    for t in range(T):\n",
    "        x[t+1] = α * x[t] + np.random.randn()\n",
    "    plt.plot(x, label=f'$\\\\alpha = {α}$')\n",
    "\n",
    "plt.legend()\n",
    "plt.show()"
   ]
  },
  {
   "cell_type": "markdown",
   "metadata": {},
   "source": [
    "### Exercise 3\n",
    "\n",
    "Here’s one solution:"
   ]
  },
  {
   "cell_type": "code",
   "execution_count": null,
   "metadata": {
    "hide-output": false
   },
   "outputs": [],
   "source": [
    "α = 0.9\n",
    "T = 200\n",
    "x = np.empty(T+1)\n",
    "x[0] = 0\n",
    "\n",
    "for t in range(T):\n",
    "    x[t+1] = α * np.abs(x[t]) + np.random.randn()\n",
    "\n",
    "plt.plot(x)\n",
    "plt.show()"
   ]
  },
  {
   "cell_type": "markdown",
   "metadata": {},
   "source": [
    "### Exercise 4\n",
    "\n",
    "Here’s one way:"
   ]
  },
  {
   "cell_type": "code",
   "execution_count": null,
   "metadata": {
    "hide-output": false
   },
   "outputs": [],
   "source": [
    "α = 0.9\n",
    "T = 200\n",
    "x = np.empty(T+1)\n",
    "x[0] = 0\n",
    "\n",
    "for t in range(T):\n",
    "    if x[t] < 0:\n",
    "        abs_x = - x[t]\n",
    "    else:\n",
    "        abs_x = x[t]\n",
    "    x[t+1] = α * abs_x + np.random.randn()\n",
    "\n",
    "plt.plot(x)\n",
    "plt.show()"
   ]
  },
  {
   "cell_type": "markdown",
   "metadata": {},
   "source": [
    "Here’s a shorter way to write the same thing:"
   ]
  },
  {
   "cell_type": "code",
   "execution_count": null,
   "metadata": {
    "hide-output": false
   },
   "outputs": [],
   "source": [
    "α = 0.9\n",
    "T = 200\n",
    "x = np.empty(T+1)\n",
    "x[0] = 0\n",
    "\n",
    "for t in range(T):\n",
    "    abs_x = - x[t] if x[t] < 0 else x[t]\n",
    "    x[t+1] = α * abs_x + np.random.randn()\n",
    "\n",
    "plt.plot(x)\n",
    "plt.show()"
   ]
  },
  {
   "cell_type": "markdown",
   "metadata": {},
   "source": [
    "### Exercise 5\n",
    "\n",
    "Consider the circle of diameter 1 embedded in the unit square.\n",
    "\n",
    "Let $ A $ be its area and let $ r=1/2 $ be its radius.\n",
    "\n",
    "If we know $ \\pi $ then we can compute $ A $ via\n",
    "$ A = \\pi r^2 $.\n",
    "\n",
    "But here the point is to compute $ \\pi $, which we can do by\n",
    "$ \\pi = A / r^2 $.\n",
    "\n",
    "Summary: If we can estimate the area of a circle with diameter 1, then dividing\n",
    "by $ r^2 = (1/2)^2 = 1/4 $ gives an estimate of $ \\pi $.\n",
    "\n",
    "We estimate the area by sampling bivariate uniforms and looking at the\n",
    "fraction that falls into the circle."
   ]
  },
  {
   "cell_type": "code",
   "execution_count": null,
   "metadata": {
    "hide-output": false
   },
   "outputs": [],
   "source": [
    "n = 100000\n",
    "\n",
    "count = 0\n",
    "for i in range(n):\n",
    "    u, v = np.random.uniform(), np.random.uniform()\n",
    "    d = np.sqrt((u - 0.5)**2 + (v - 0.5)**2)\n",
    "    if d < 0.5:\n",
    "        count += 1\n",
    "\n",
    "area_estimate = count / n\n",
    "\n",
    "print(area_estimate * 4)  # dividing by radius**2"
   ]
  }
 ],
 "metadata": {
  "date": 1582428152.4265878,
  "filename": "python_by_example.rst",
  "kernelspec": {
   "display_name": "Python 3",
   "language": "python",
   "name": "python3"
  },
  "language_info": {
   "codemirror_mode": {
    "name": "ipython",
    "version": 3
   },
   "file_extension": ".py",
   "mimetype": "text/x-python",
   "name": "python",
   "nbconvert_exporter": "python",
   "pygments_lexer": "ipython3",
   "version": "3.7.6"
  },
  "title": "An Introductory Example"
 },
 "nbformat": 4,
 "nbformat_minor": 2
}
